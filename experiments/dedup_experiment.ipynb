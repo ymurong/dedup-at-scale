{
 "cells": [
  {
   "cell_type": "code",
   "execution_count": 7,
   "metadata": {
    "collapsed": false,
    "pycharm": {
     "name": "#%%\n"
    }
   },
   "outputs": [],
   "source": [
    "import duckdb\n",
    "import dedupe"
   ]
  },
  {
   "cell_type": "markdown",
   "metadata": {
    "collapsed": false,
    "pycharm": {
     "name": "#%% md\n"
    }
   },
   "source": [
    "## Extract Example Data (Early childhood locations)"
   ]
  },
  {
   "cell_type": "code",
   "execution_count": 8,
   "metadata": {
    "collapsed": true,
    "pycharm": {
     "name": "#%%\n"
    }
   },
   "outputs": [],
   "source": [
    "conn = duckdb.connect(database=\"csv_example_messy_input_duck.db\", read_only=False)\n",
    "cur = conn.cursor()"
   ]
  },
  {
   "cell_type": "code",
   "execution_count": 9,
   "metadata": {
    "collapsed": false,
    "pycharm": {
     "name": "#%%\n"
    }
   },
   "outputs": [
    {
     "data": {
      "text/plain": [
       "<duckdb.DuckDBPyConnection at 0x11f77e1b0>"
      ]
     },
     "execution_count": 9,
     "metadata": {},
     "output_type": "execute_result"
    }
   ],
   "source": [
    "cur.execute(\"CREATE TABLE examples AS SELECT * FROM 'csv_example_messy_input.csv';\")"
   ]
  },
  {
   "cell_type": "code",
   "execution_count": 18,
   "metadata": {
    "collapsed": false,
    "pycharm": {
     "name": "#%%\n"
    }
   },
   "outputs": [],
   "source": [
    "df_examples = cur.execute(\"\"\"\n",
    "    SELECT Id as id, \"Site name\" as \"sitename\", Address as \"address\", Zip as \"zip\", Phone as \"phone\"\n",
    "    FROM examples\n",
    "\"\"\").df()"
   ]
  },
  {
   "cell_type": "code",
   "execution_count": 19,
   "metadata": {
    "collapsed": false,
    "pycharm": {
     "name": "#%%\n"
    }
   },
   "outputs": [
    {
     "data": {
      "text/html": [
       "<div>\n",
       "<style scoped>\n",
       "    .dataframe tbody tr th:only-of-type {\n",
       "        vertical-align: middle;\n",
       "    }\n",
       "\n",
       "    .dataframe tbody tr th {\n",
       "        vertical-align: top;\n",
       "    }\n",
       "\n",
       "    .dataframe thead th {\n",
       "        text-align: right;\n",
       "    }\n",
       "</style>\n",
       "<table border=\"1\" class=\"dataframe\">\n",
       "  <thead>\n",
       "    <tr style=\"text-align: right;\">\n",
       "      <th></th>\n",
       "      <th>id</th>\n",
       "      <th>sitename</th>\n",
       "      <th>address</th>\n",
       "      <th>zip</th>\n",
       "      <th>phone</th>\n",
       "    </tr>\n",
       "  </thead>\n",
       "  <tbody>\n",
       "    <tr>\n",
       "      <th>0</th>\n",
       "      <td>0</td>\n",
       "      <td>Salvation Army - Temple / Salvation Army</td>\n",
       "      <td>1 N Ogden Ave</td>\n",
       "      <td>NaN</td>\n",
       "      <td>2262649.0</td>\n",
       "    </tr>\n",
       "    <tr>\n",
       "      <th>1</th>\n",
       "      <td>1</td>\n",
       "      <td>Salvation Army - Temple / Salvation Army</td>\n",
       "      <td>1 N Ogden Ave</td>\n",
       "      <td>NaN</td>\n",
       "      <td>2262649.0</td>\n",
       "    </tr>\n",
       "    <tr>\n",
       "      <th>2</th>\n",
       "      <td>2</td>\n",
       "      <td>National Louis University - Dr. Effie O. Elli...</td>\n",
       "      <td>10 S Kedzie Ave</td>\n",
       "      <td>NaN</td>\n",
       "      <td>5339011.0</td>\n",
       "    </tr>\n",
       "    <tr>\n",
       "      <th>3</th>\n",
       "      <td>3</td>\n",
       "      <td>National Louis University - Dr. Effie O. Elli...</td>\n",
       "      <td>10 S Kedzie Ave</td>\n",
       "      <td>NaN</td>\n",
       "      <td>5339011.0</td>\n",
       "    </tr>\n",
       "    <tr>\n",
       "      <th>4</th>\n",
       "      <td>4</td>\n",
       "      <td>Board Trustees-City Colleges of Chicago - Oli...</td>\n",
       "      <td>10001 S Woodlawn Ave</td>\n",
       "      <td>NaN</td>\n",
       "      <td>2916100.0</td>\n",
       "    </tr>\n",
       "    <tr>\n",
       "      <th>...</th>\n",
       "      <td>...</td>\n",
       "      <td>...</td>\n",
       "      <td>...</td>\n",
       "      <td>...</td>\n",
       "      <td>...</td>\n",
       "    </tr>\n",
       "    <tr>\n",
       "      <th>3332</th>\n",
       "      <td>3332</td>\n",
       "      <td>YMCA Garfield</td>\n",
       "      <td>7 N Homan Avenue</td>\n",
       "      <td>60624.0</td>\n",
       "      <td>2653900.0</td>\n",
       "    </tr>\n",
       "    <tr>\n",
       "      <th>3333</th>\n",
       "      <td>3333</td>\n",
       "      <td>YMCA Marshall</td>\n",
       "      <td>3250 W Adams Street</td>\n",
       "      <td>60624.0</td>\n",
       "      <td>2650145.0</td>\n",
       "    </tr>\n",
       "    <tr>\n",
       "      <th>3334</th>\n",
       "      <td>3334</td>\n",
       "      <td>YMCA North Lawndale</td>\n",
       "      <td>3449 W Arthington Street</td>\n",
       "      <td>60624.0</td>\n",
       "      <td>6380773.0</td>\n",
       "    </tr>\n",
       "    <tr>\n",
       "      <th>3335</th>\n",
       "      <td>3335</td>\n",
       "      <td>C.C.C. Learning Center</td>\n",
       "      <td>219 S Dearborn Street</td>\n",
       "      <td>60605.0</td>\n",
       "      <td>3538687.0</td>\n",
       "    </tr>\n",
       "    <tr>\n",
       "      <th>3336</th>\n",
       "      <td>3336</td>\n",
       "      <td>Haymarket Center</td>\n",
       "      <td>932 W. Washington Blvd</td>\n",
       "      <td>60607.0</td>\n",
       "      <td>2267984.0</td>\n",
       "    </tr>\n",
       "  </tbody>\n",
       "</table>\n",
       "<p>3337 rows × 5 columns</p>\n",
       "</div>"
      ],
      "text/plain": [
       "        id                                           sitename  \\\n",
       "0        0           Salvation Army - Temple / Salvation Army   \n",
       "1        1           Salvation Army - Temple / Salvation Army   \n",
       "2        2   National Louis University - Dr. Effie O. Elli...   \n",
       "3        3   National Louis University - Dr. Effie O. Elli...   \n",
       "4        4   Board Trustees-City Colleges of Chicago - Oli...   \n",
       "...    ...                                                ...   \n",
       "3332  3332                                      YMCA Garfield   \n",
       "3333  3333                                      YMCA Marshall   \n",
       "3334  3334                                YMCA North Lawndale   \n",
       "3335  3335                             C.C.C. Learning Center   \n",
       "3336  3336                                   Haymarket Center   \n",
       "\n",
       "                        address      zip      phone  \n",
       "0                1 N Ogden Ave       NaN  2262649.0  \n",
       "1                1 N Ogden Ave       NaN  2262649.0  \n",
       "2              10 S Kedzie Ave       NaN  5339011.0  \n",
       "3              10 S Kedzie Ave       NaN  5339011.0  \n",
       "4         10001 S Woodlawn Ave       NaN  2916100.0  \n",
       "...                         ...      ...        ...  \n",
       "3332          7 N Homan Avenue   60624.0  2653900.0  \n",
       "3333       3250 W Adams Street   60624.0  2650145.0  \n",
       "3334  3449 W Arthington Street   60624.0  6380773.0  \n",
       "3335     219 S Dearborn Street   60605.0  3538687.0  \n",
       "3336    932 W. Washington Blvd   60607.0  2267984.0  \n",
       "\n",
       "[3337 rows x 5 columns]"
      ]
     },
     "execution_count": 19,
     "metadata": {},
     "output_type": "execute_result"
    }
   ],
   "source": [
    "df_examples"
   ]
  },
  {
   "cell_type": "markdown",
   "metadata": {
    "collapsed": false,
    "pycharm": {
     "name": "#%% md\n"
    }
   },
   "source": [
    "## Dedup Experiment"
   ]
  },
  {
   "cell_type": "markdown",
   "metadata": {
    "collapsed": false,
    "pycharm": {
     "name": "#%% md\n"
    }
   },
   "source": [
    "### Blocking Rules"
   ]
  },
  {
   "cell_type": "code",
   "execution_count": null,
   "metadata": {
    "collapsed": false,
    "pycharm": {
     "name": "#%%\n"
    }
   },
   "outputs": [],
   "source": []
  }
 ],
 "metadata": {
  "kernelspec": {
   "display_name": "Python 3",
   "language": "python",
   "name": "python3"
  },
  "language_info": {
   "codemirror_mode": {
    "name": "ipython",
    "version": 2
   },
   "file_extension": ".py",
   "mimetype": "text/x-python",
   "name": "python",
   "nbconvert_exporter": "python",
   "pygments_lexer": "ipython2",
   "version": "3.11.2"
  },
  "vscode": {
   "interpreter": {
    "hash": "959fac40aa7a4a5c7ea27388cfec7e8a3102dd5348a7e076150d7952d6f2a6ef"
   }
  }
 },
 "nbformat": 4,
 "nbformat_minor": 0
}
